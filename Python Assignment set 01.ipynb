{
 "cells": [
  {
   "cell_type": "markdown",
   "id": "8c63b491-250b-4a58-a558-8d46cbbc07cc",
   "metadata": {},
   "source": [
    "#### Q1. Write a Python program that defines a function called \"add_numbers\" that takes two arguments (i.e., numbers) and returns their sum. Within the function, add the two numbers together and return the result using the return statement. Call the function with the values 5 and 6, and print out the returned result.This will result in the addition of 5 and 6, with the output of the program being the sum of these two numbers."
   ]
  },
  {
   "cell_type": "code",
   "execution_count": 2,
   "id": "7a0dbad9-1727-4744-a394-3dc596dfb8ee",
   "metadata": {},
   "outputs": [
    {
     "name": "stdout",
     "output_type": "stream",
     "text": [
      "11\n"
     ]
    }
   ],
   "source": [
    "def add_numbers(num1,num2):\n",
    "    return num1+num2\n",
    "result = add_numbers(5,6)\n",
    "print(result)\n"
   ]
  },
  {
   "cell_type": "markdown",
   "id": "15e1e867-5dd5-4964-8466-c1eb8394fb6e",
   "metadata": {},
   "source": [
    "#### Q2. Write a Python program that calculates the square root of a given number using a built-in function. Specifically, the program should take an integer or float input from the user, calculate its square root using the 'sqrt()' function from the 'math' module, and print out the result to the user. As an example,calculate the square root of the number 625 using this program, which should output the value of 25."
   ]
  },
  {
   "cell_type": "code",
   "execution_count": 4,
   "id": "87c38185-0f17-42ba-aef8-636d92e12c8c",
   "metadata": {},
   "outputs": [
    {
     "name": "stdout",
     "output_type": "stream",
     "text": [
      "The square Root of 625 is 25.0\n"
     ]
    }
   ],
   "source": [
    "import math\n",
    "number = 625\n",
    "sqrt_number =math.sqrt(number)\n",
    "print(\"The square Root of\", number, \"is\" ,sqrt_number)\n",
    "    "
   ]
  },
  {
   "cell_type": "markdown",
   "id": "04e87847-0021-427b-87d6-c0c05d24d404",
   "metadata": {},
   "source": [
    "#### Q3.Write a program that prints all prime numbers between 0 to 50."
   ]
  },
  {
   "cell_type": "code",
   "execution_count": 9,
   "id": "892989af-e6c8-4ec3-bd39-a70216da8349",
   "metadata": {},
   "outputs": [
    {
     "name": "stdout",
     "output_type": "stream",
     "text": [
      "2\n",
      "3\n",
      "5\n",
      "7\n",
      "9\n",
      "11\n",
      "13\n",
      "15\n",
      "17\n",
      "19\n",
      "21\n",
      "23\n",
      "25\n",
      "27\n",
      "29\n",
      "31\n",
      "33\n",
      "35\n",
      "37\n",
      "39\n",
      "41\n",
      "43\n",
      "45\n",
      "47\n",
      "49\n"
     ]
    }
   ],
   "source": [
    "for number in range(2,51):\n",
    "    is_prime = True\n",
    "    for i in range(2,number):\n",
    "        if number % 2 == 0:\n",
    "            is_prime = False\n",
    "            break\n",
    "    if is_prime:\n",
    "        print(number)\n",
    "    \n",
    "    "
   ]
  },
  {
   "cell_type": "markdown",
   "id": "bd8a4681-62fc-4ea3-8ce2-ba7e16664304",
   "metadata": {},
   "source": [
    "#### Q4.How can we swap the values of three variables (let's say a, b, and c) without using a fourth variable?For example, if we have a=5, b=8, and c=9, how can we obtain a=9, b=5, and c=8? The challenge is to perform this operation without using an additional variable to store any of the values during the swapping process."
   ]
  },
  {
   "cell_type": "code",
   "execution_count": 11,
   "id": "0eceeb36-fa21-4d56-90c3-7c93b7ce7c10",
   "metadata": {},
   "outputs": [
    {
     "name": "stdout",
     "output_type": "stream",
     "text": [
      "a= 9\n",
      "b= 5\n",
      "c= 8\n"
     ]
    }
   ],
   "source": [
    "a=5\n",
    "b=8\n",
    "c=9\n",
    "a,b,c= c,a,b\n",
    "print(\"a=\",a)\n",
    "print(\"b=\",b)\n",
    "print(\"c=\",c)"
   ]
  },
  {
   "cell_type": "markdown",
   "id": "01a74cab-0e54-46f6-ba7c-04ff1ac00eb9",
   "metadata": {},
   "source": [
    "#### Q5. Can you write a program that determines the nature of a given number (in this case, 87) as being positive, negative, or zero? The program should be designed to take the number as input and perform the necessary calculations to determine if the number is positive (i.e., greater than zero), negative (i.e., less than zero), or zero (i.e., equal to zero). The output of the program should indicate which of these three categories the given number falls into."
   ]
  },
  {
   "cell_type": "code",
   "execution_count": 12,
   "id": "05f0896f-9690-495b-a362-0267f80de45b",
   "metadata": {},
   "outputs": [
    {
     "name": "stdout",
     "output_type": "stream",
     "text": [
      "The number is Positive\n"
     ]
    }
   ],
   "source": [
    "number=87\n",
    "if number>0:\n",
    "    print(\"The number is Positive\")\n",
    "elif number<0:\n",
    "    print(\"The number is Negative\")\n",
    "else: \n",
    "    print (\"The number is equal to zero\")\n",
    "        \n",
    "    "
   ]
  },
  {
   "cell_type": "markdown",
   "id": "57708a78-96fb-4c3d-a73f-f40460cd5202",
   "metadata": {},
   "source": [
    "#### Q6. How can you create a program that determines whether a given number (in this case, 98) is even or odd? The program should be designed to take the number as input and perform the necessary calculations to determine whether it is divisible by two. If the number is divisible by two without leaving a remainder, it is an even number, and if there is a remainder, it is an odd number. The output of the program should indicate whether the given number is even or odd."
   ]
  },
  {
   "cell_type": "code",
   "execution_count": 13,
   "id": "1564dae0-b11e-4301-9d54-56ccb895e770",
   "metadata": {},
   "outputs": [
    {
     "name": "stdout",
     "output_type": "stream",
     "text": [
      "Number is Even\n"
     ]
    }
   ],
   "source": [
    "num=98\n",
    "if num%2==0:\n",
    "    print(\"Number is Even\")\n",
    "else:\n",
    "    print(\"Number is Odd\")"
   ]
  },
  {
   "cell_type": "code",
   "execution_count": 23,
   "id": "bc61dc5f-f9db-49ef-afa8-9c2431b655a6",
   "metadata": {},
   "outputs": [
    {
     "name": "stdin",
     "output_type": "stream",
     "text": [
      "enter any Number :  1005\n"
     ]
    },
    {
     "name": "stdout",
     "output_type": "stream",
     "text": [
      "Number is Odd\n"
     ]
    }
   ],
   "source": [
    "num=int(input(\"enter any Number : \"))\n",
    "if num%2==0:\n",
    "    print(\"Number is Even\")\n",
    "else:\n",
    "    print(\"Number is Odd\")"
   ]
  },
  {
   "cell_type": "markdown",
   "id": "37f45640-52bb-4997-ad59-4b4dba2959a2",
   "metadata": {},
   "source": [
    "#### Q7.Write a program for sum of digits.the digits are 76543 and the output should be 25."
   ]
  },
  {
   "cell_type": "code",
   "execution_count": 20,
   "id": "619fa93c-2c78-4fed-91c1-0b65a29b40b9",
   "metadata": {},
   "outputs": [
    {
     "name": "stdout",
     "output_type": "stream",
     "text": [
      "The sum of digits is 25\n"
     ]
    }
   ],
   "source": [
    "number = 76543\n",
    "sum_of_digits = 0\n",
    "\n",
    "while number > 0:\n",
    "    sum_of_digits += number % 10\n",
    "    number //= 10\n",
    "    \n",
    "print(\"The sum of digits is\",sum_of_digits)\n",
    "    \n",
    "    \n",
    "    "
   ]
  },
  {
   "cell_type": "markdown",
   "id": "43a6d5dd-2347-4be4-bb7a-1ba8d13d416e",
   "metadata": {},
   "source": [
    "#### Q8.Write a program for reversing the given number 5436 and the output should be 6345."
   ]
  },
  {
   "cell_type": "code",
   "execution_count": 2,
   "id": "cfb81a42-264a-4cfd-8731-83a0a95b6a56",
   "metadata": {},
   "outputs": [
    {
     "name": "stdout",
     "output_type": "stream",
     "text": [
      "The reversed number is 6345\n"
     ]
    }
   ],
   "source": [
    "number = 5436\n",
    "reverse = 0\n",
    "\n",
    "while number > 0:\n",
    "   \n",
    "    digit = number % 10\n",
    "      \n",
    "    reverse = (reverse * 10) + digit\n",
    "    \n",
    "    number //=10\n",
    "\n",
    "print(\"The reversed number is\",reverse)"
   ]
  },
  {
   "cell_type": "markdown",
   "id": "858c7c3f-e396-4725-b1cf-eab216d0a37d",
   "metadata": {},
   "source": [
    "#### Q9.Write a program to check if a given number 371 is an Armstrong number?"
   ]
  },
  {
   "cell_type": "code",
   "execution_count": 19,
   "id": "fb238607-2f1e-4bef-aaba-ddf8de5ab9cf",
   "metadata": {},
   "outputs": [
    {
     "name": "stdout",
     "output_type": "stream",
     "text": [
      "371 is an Armstrong number\n"
     ]
    }
   ],
   "source": [
    "\n",
    "\n",
    "def is_armstrong(num):\n",
    "    \n",
    "    num_str = str(num)\n",
    "    num_digits = len(num_str)\n",
    "    \n",
    "    sum_of_cubes = sum([int(digit)**num_digits for digit in num_str])\n",
    "\n",
    "    if sum_of_cubes == num:\n",
    "        return True\n",
    "    else:\n",
    "        return False\n",
    "\n",
    "# Test the function with the number 371\n",
    "num = 371\n",
    "if is_armstrong(num):\n",
    "    print(num, \"is an Armstrong number\")\n",
    "else:\n",
    "    print(num, \"is not an Armstrong number\")\n",
    "    "
   ]
  },
  {
   "cell_type": "markdown",
   "id": "09b2e22e-6afd-426b-b03c-8822320439ec",
   "metadata": {},
   "source": [
    "#### Q10.Write a program the given year is 1996, a leap year."
   ]
  },
  {
   "cell_type": "code",
   "execution_count": 14,
   "id": "fc57129c-74aa-44ca-8b02-3e7aa2f636f0",
   "metadata": {},
   "outputs": [
    {
     "name": "stdout",
     "output_type": "stream",
     "text": [
      "1996 is Leap Year\n"
     ]
    }
   ],
   "source": [
    "Year = 1996\n",
    "if (Year % 4 == 0 and Year % 100 != 0) or (Year % 400 == 0):\n",
    "    print(Year,\"is Leap Year\")\n",
    "else:\n",
    "    print(Year, \"is Normal Year\")"
   ]
  },
  {
   "cell_type": "code",
   "execution_count": 20,
   "id": "43b5a5a6-cab4-4839-a179-c633a5124895",
   "metadata": {},
   "outputs": [
    {
     "name": "stdin",
     "output_type": "stream",
     "text": [
      "Enter Year: 2005\n"
     ]
    },
    {
     "name": "stdout",
     "output_type": "stream",
     "text": [
      "2005 is Normal Year\n"
     ]
    }
   ],
   "source": [
    "Year = int(input('Enter Year:'))\n",
    "if (Year % 4 == 0 and Year % 100 != 0) or (Year % 400 == 0):\n",
    "    print(Year,\"is Leap Year\")\n",
    "else:\n",
    "    print(Year, \"is Normal Year\")"
   ]
  },
  {
   "cell_type": "code",
   "execution_count": null,
   "id": "a57c20fe-4bcf-4109-9319-2db60b3d0d9c",
   "metadata": {},
   "outputs": [],
   "source": []
  }
 ],
 "metadata": {
  "kernelspec": {
   "display_name": "Python 3 (ipykernel)",
   "language": "python",
   "name": "python3"
  },
  "language_info": {
   "codemirror_mode": {
    "name": "ipython",
    "version": 3
   },
   "file_extension": ".py",
   "mimetype": "text/x-python",
   "name": "python",
   "nbconvert_exporter": "python",
   "pygments_lexer": "ipython3",
   "version": "3.10.8"
  }
 },
 "nbformat": 4,
 "nbformat_minor": 5
}
